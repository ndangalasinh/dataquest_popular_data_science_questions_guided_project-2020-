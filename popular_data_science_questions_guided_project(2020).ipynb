{
 "cells": [
  {
   "cell_type": "markdown",
   "metadata": {},
   "source": [
    "# Popular DS questions from Stack Exchange\n",
    "- I am using a dataset of 2020 questions and not 2019 like the guided project"
   ]
  },
  {
   "cell_type": "markdown",
   "metadata": {},
   "source": [
    "### Data Science Stack Exchange: What is it;\n",
    "- This is one of the sites in the stack exchange network dedicated specially Data science questions, Machine Learning questions.\n",
    "- Data about the questions being asked here can show abit what are the knowledge gap most users are having"
   ]
  },
  {
   "cell_type": "markdown",
   "metadata": {},
   "source": [
    "### Analysis Outline\n",
    "1. Load the basic libraries we will be using through out the mission\n",
    "2. Load the dataset into pandas\n",
    "    - Worth to mention that this data is available in the DS stack echange SQL data explorer \n",
    "3. Inspect the pandas data we have loaded\n",
    "    - df.info()\n",
    "    - df.describe()\n"
   ]
  },
  {
   "cell_type": "code",
   "execution_count": 1,
   "metadata": {},
   "outputs": [],
   "source": [
    "#Load the needed libraries\n",
    "import pandas as pd\n"
   ]
  },
  {
   "cell_type": "code",
   "execution_count": 4,
   "metadata": {},
   "outputs": [],
   "source": [
    "#load the dataset into the pandas\n",
    "questions_2020 = pd.read_csv('2020_questions.csv',parse_dates=['CreationDate'])"
   ]
  },
  {
   "cell_type": "code",
   "execution_count": 5,
   "metadata": {},
   "outputs": [
    {
     "name": "stdout",
     "output_type": "stream",
     "text": [
      "<class 'pandas.core.frame.DataFrame'>\n",
      "RangeIndex: 3916 entries, 0 to 3915\n",
      "Data columns (total 9 columns):\n",
      "id               3916 non-null int64\n",
      "PostTypeId       3916 non-null int64\n",
      "CreationDate     3916 non-null datetime64[ns]\n",
      "Score            3916 non-null int64\n",
      "Tags             3916 non-null object\n",
      "Name             3916 non-null object\n",
      "viewCount        3916 non-null int64\n",
      "AnswerCount      3916 non-null int64\n",
      "FavoriteCount    394 non-null float64\n",
      "dtypes: datetime64[ns](1), float64(1), int64(5), object(2)\n",
      "memory usage: 275.5+ KB\n"
     ]
    }
   ],
   "source": [
    "#lets look how the contents of the columns\n",
    "questions_2020.info()"
   ]
  },
  {
   "cell_type": "code",
   "execution_count": 6,
   "metadata": {},
   "outputs": [
    {
     "data": {
      "text/html": [
       "<div>\n",
       "<style scoped>\n",
       "    .dataframe tbody tr th:only-of-type {\n",
       "        vertical-align: middle;\n",
       "    }\n",
       "\n",
       "    .dataframe tbody tr th {\n",
       "        vertical-align: top;\n",
       "    }\n",
       "\n",
       "    .dataframe thead th {\n",
       "        text-align: right;\n",
       "    }\n",
       "</style>\n",
       "<table border=\"1\" class=\"dataframe\">\n",
       "  <thead>\n",
       "    <tr style=\"text-align: right;\">\n",
       "      <th></th>\n",
       "      <th>id</th>\n",
       "      <th>PostTypeId</th>\n",
       "      <th>Score</th>\n",
       "      <th>viewCount</th>\n",
       "      <th>AnswerCount</th>\n",
       "      <th>FavoriteCount</th>\n",
       "    </tr>\n",
       "  </thead>\n",
       "  <tbody>\n",
       "    <tr>\n",
       "      <td>count</td>\n",
       "      <td>3916.000000</td>\n",
       "      <td>3916.0</td>\n",
       "      <td>3916.000000</td>\n",
       "      <td>3916.000000</td>\n",
       "      <td>3916.000000</td>\n",
       "      <td>394.000000</td>\n",
       "    </tr>\n",
       "    <tr>\n",
       "      <td>mean</td>\n",
       "      <td>70559.627426</td>\n",
       "      <td>1.0</td>\n",
       "      <td>0.743871</td>\n",
       "      <td>56.986721</td>\n",
       "      <td>0.645046</td>\n",
       "      <td>1.220812</td>\n",
       "    </tr>\n",
       "    <tr>\n",
       "      <td>std</td>\n",
       "      <td>2927.949696</td>\n",
       "      <td>0.0</td>\n",
       "      <td>1.378924</td>\n",
       "      <td>241.031032</td>\n",
       "      <td>0.788586</td>\n",
       "      <td>1.011121</td>\n",
       "    </tr>\n",
       "    <tr>\n",
       "      <td>min</td>\n",
       "      <td>65678.000000</td>\n",
       "      <td>1.0</td>\n",
       "      <td>-3.000000</td>\n",
       "      <td>2.000000</td>\n",
       "      <td>0.000000</td>\n",
       "      <td>0.000000</td>\n",
       "    </tr>\n",
       "    <tr>\n",
       "      <td>25%</td>\n",
       "      <td>67876.500000</td>\n",
       "      <td>1.0</td>\n",
       "      <td>0.000000</td>\n",
       "      <td>14.000000</td>\n",
       "      <td>0.000000</td>\n",
       "      <td>1.000000</td>\n",
       "    </tr>\n",
       "    <tr>\n",
       "      <td>50%</td>\n",
       "      <td>70191.000000</td>\n",
       "      <td>1.0</td>\n",
       "      <td>0.000000</td>\n",
       "      <td>23.000000</td>\n",
       "      <td>1.000000</td>\n",
       "      <td>1.000000</td>\n",
       "    </tr>\n",
       "    <tr>\n",
       "      <td>75%</td>\n",
       "      <td>73271.750000</td>\n",
       "      <td>1.0</td>\n",
       "      <td>1.000000</td>\n",
       "      <td>39.000000</td>\n",
       "      <td>1.000000</td>\n",
       "      <td>1.000000</td>\n",
       "    </tr>\n",
       "    <tr>\n",
       "      <td>max</td>\n",
       "      <td>75147.000000</td>\n",
       "      <td>1.0</td>\n",
       "      <td>30.000000</td>\n",
       "      <td>7630.000000</td>\n",
       "      <td>10.000000</td>\n",
       "      <td>10.000000</td>\n",
       "    </tr>\n",
       "  </tbody>\n",
       "</table>\n",
       "</div>"
      ],
      "text/plain": [
       "                 id  PostTypeId        Score    viewCount  AnswerCount  \\\n",
       "count   3916.000000      3916.0  3916.000000  3916.000000  3916.000000   \n",
       "mean   70559.627426         1.0     0.743871    56.986721     0.645046   \n",
       "std     2927.949696         0.0     1.378924   241.031032     0.788586   \n",
       "min    65678.000000         1.0    -3.000000     2.000000     0.000000   \n",
       "25%    67876.500000         1.0     0.000000    14.000000     0.000000   \n",
       "50%    70191.000000         1.0     0.000000    23.000000     1.000000   \n",
       "75%    73271.750000         1.0     1.000000    39.000000     1.000000   \n",
       "max    75147.000000         1.0    30.000000  7630.000000    10.000000   \n",
       "\n",
       "       FavoriteCount  \n",
       "count     394.000000  \n",
       "mean        1.220812  \n",
       "std         1.011121  \n",
       "min         0.000000  \n",
       "25%         1.000000  \n",
       "50%         1.000000  \n",
       "75%         1.000000  \n",
       "max        10.000000  "
      ]
     },
     "execution_count": 6,
     "metadata": {},
     "output_type": "execute_result"
    }
   ],
   "source": [
    "questions_2020.describe()"
   ]
  },
  {
   "cell_type": "code",
   "execution_count": null,
   "metadata": {},
   "outputs": [],
   "source": []
  }
 ],
 "metadata": {
  "kernelspec": {
   "display_name": "Python 3",
   "language": "python",
   "name": "python3"
  },
  "language_info": {
   "codemirror_mode": {
    "name": "ipython",
    "version": 3
   },
   "file_extension": ".py",
   "mimetype": "text/x-python",
   "name": "python",
   "nbconvert_exporter": "python",
   "pygments_lexer": "ipython3",
   "version": "3.7.4"
  }
 },
 "nbformat": 4,
 "nbformat_minor": 2
}
